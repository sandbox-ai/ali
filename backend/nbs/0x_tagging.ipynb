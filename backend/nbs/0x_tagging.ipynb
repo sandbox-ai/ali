{
 "cells": [
  {
   "cell_type": "markdown",
   "metadata": {},
   "source": [
    "This notebook will explore the tagging of the user questions using an LLM. We will define an LLM with the potential topics it can be tagged with, and then use that tagging to add a few chunks to the retrieval. \n",
    "The tags should also be in the document vectors. \n",
    "The reason for using the tags to retrieve ADITIONAL chunks (instead of only retrieving based on the tag) is to make the system more robust, because if the tagging fails in any possible way (say the label tagged is wrong, non existent, or the question involves many tags and the llm fails to include all of them), then the retrieval through vector similarity will (hopefully) fill in the missing documents. \n",
    "\n",
    "see for example: \n",
    "- https://python.langchain.com/docs/use_cases/tagging\n",
    "- https://www.google.com/search?q=llm+tagging&client=ubuntu&hs=75N&sca_esv=598728132&channel=fs&sxsrf=ACQVn0_WRI0K9YCSZOPALpui-_AJFpH0Mg%3A1705392044468&ei=rDemZe6YHJ3N1sQP0MO3kAI&ved=0ahUKEwjuno24uOGDAxWdppUCHdDhDSIQ4dUDCBA&uact=5&oq=llm+tagging&gs_lp=Egxnd3Mtd2l6LXNlcnAiC2xsbSB0YWdnaW5nMgoQABhHGNYEGLADMgoQABhHGNYEGLADMgoQABhHGNYEGLADMgoQABhHGNYEGLADMgoQABhHGNYEGLADMgoQABhHGNYEGLADMgoQABhHGNYEGLADMgoQABhHGNYEGLADSKoHUNIFWNIFcAF4AZABAJgBAKABAKoBALgBA8gBAPgBAeIDBBgAIEGIBgGQBgg&sclient=gws-wiz-serp"
   ]
  },
  {
   "cell_type": "markdown",
   "metadata": {},
   "source": [
    "TO DO \n"
   ]
  }
 ],
 "metadata": {
  "language_info": {
   "name": "python"
  }
 },
 "nbformat": 4,
 "nbformat_minor": 2
}
