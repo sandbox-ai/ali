{
 "cells": [
  {
   "cell_type": "markdown",
   "metadata": {},
   "source": [
    "if a retrieved chunk cites another law, search it with fuzzy search and then retrieve it in a second refine stage, where we ask the llm to complete the answer with the contents of those affected laws. \n",
    "\n",
    "note: affected laws should go into the citations as well. "
   ]
  },
  {
   "cell_type": "code",
   "execution_count": null,
   "metadata": {},
   "outputs": [],
   "source": []
  }
 ],
 "metadata": {
  "language_info": {
   "name": "python"
  }
 },
 "nbformat": 4,
 "nbformat_minor": 2
}
